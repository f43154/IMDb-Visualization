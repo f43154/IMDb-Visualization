{
 "cells": [
  {
   "cell_type": "markdown",
   "metadata": {},
   "source": [
    "# Peaky Blinders IMDb Ratings, Part V\n",
    "\n",
    "Putting it all together!"
   ]
  },
  {
   "cell_type": "code",
   "execution_count": 1,
   "metadata": {},
   "outputs": [],
   "source": [
    "import pandas as pd\n",
    "from requests import get\n",
    "from bs4 import BeautifulSoup\n",
    "import numpy as np\n",
    "import locale\n",
    "import seaborn as sns\n",
    "import matplotlib.pyplot as plt\n",
    "\n",
    "# Use IMDb search engine to find tconst for show, don't use read_csv of this data because can't put it online\n",
    "title_basics_tsv = pd.read_csv('title.basics.tsv/data.tsv', sep='\\t', \n",
    "                               # Was giving me a low_memory dtype warning\n",
    "                               dtype={'startYear': str})"
   ]
  },
  {
   "cell_type": "code",
   "execution_count": 9,
   "metadata": {},
   "outputs": [
    {
     "name": "stdout",
     "output_type": "stream",
     "text": [
      "Enter a name of a Show: Peaky Blinders\n"
     ]
    },
    {
     "name": "stderr",
     "output_type": "stream",
     "text": [
      "C:\\Users\\Fani\\Anaconda3\\lib\\site-packages\\ipykernel_launcher.py:32: SettingWithCopyWarning: \n",
      "A value is trying to be set on a copy of a slice from a DataFrame\n",
      "\n",
      "See the caveats in the documentation: http://pandas.pydata.org/pandas-docs/stable/user_guide/indexing.html#returning-a-view-versus-a-copy\n",
      "C:\\Users\\Fani\\Anaconda3\\lib\\site-packages\\ipykernel_launcher.py:33: SettingWithCopyWarning: \n",
      "A value is trying to be set on a copy of a slice from a DataFrame\n",
      "\n",
      "See the caveats in the documentation: http://pandas.pydata.org/pandas-docs/stable/user_guide/indexing.html#returning-a-view-versus-a-copy\n",
      "C:\\Users\\Fani\\Anaconda3\\lib\\site-packages\\ipykernel_launcher.py:34: SettingWithCopyWarning: \n",
      "A value is trying to be set on a copy of a slice from a DataFrame\n",
      "\n",
      "See the caveats in the documentation: http://pandas.pydata.org/pandas-docs/stable/user_guide/indexing.html#returning-a-view-versus-a-copy\n",
      "C:\\Users\\Fani\\Anaconda3\\lib\\site-packages\\ipykernel_launcher.py:35: SettingWithCopyWarning: \n",
      "A value is trying to be set on a copy of a slice from a DataFrame\n",
      "\n",
      "See the caveats in the documentation: http://pandas.pydata.org/pandas-docs/stable/user_guide/indexing.html#returning-a-view-versus-a-copy\n",
      "C:\\Users\\Fani\\Anaconda3\\lib\\site-packages\\ipykernel_launcher.py:36: SettingWithCopyWarning: \n",
      "A value is trying to be set on a copy of a slice from a DataFrame\n",
      "\n",
      "See the caveats in the documentation: http://pandas.pydata.org/pandas-docs/stable/user_guide/indexing.html#returning-a-view-versus-a-copy\n"
     ]
    },
    {
     "data": {
      "image/png": "[encoded data removed]",
      "text/plain": [
       "<Figure size 720x1080 with 2 Axes>"
      ]
     },
     "metadata": {
      "needs_background": "light"
     },
     "output_type": "display_data"
    }
   ],
   "source": [
    "user_show_title = input(\"Enter a name of a Show: \") \n",
    "user_tconst = title_basics_tsv[title_basics_tsv.primaryTitle==user_show_title]\n",
    "user_tconst = user_tconst.iloc[0]['tconst']\n",
    "url = 'https://www.imdb.com/title/' + user_tconst\n",
    "response = get(url)\n",
    "html_soup = BeautifulSoup(response.text, 'html.parser')\n",
    "\n",
    "seasons_URLs = html_soup.select('a[href*=season]')\n",
    "numSeasons = len(seasons_URLs)\n",
    "\n",
    "columns=['parentTconst','tconst','seasonNumber','episodeNumber','averageRating','numVotes']\n",
    "show_info_df = pd.DataFrame(0, index=np.arange(numEpisodes*numSeasons), columns=columns)\n",
    "show_info_df['averageRating'] = pd.to_numeric(show_info_df['averageRating'], downcast='float')\n",
    "\n",
    "df_index = 0\n",
    "\n",
    "for s in range(numSeasons):\n",
    "    season_URL = 'https://www.imdb.com' + seasons_URLs[s]['href']\n",
    "    response = get(season_URL)\n",
    "    season_soup = BeautifulSoup(response.text, 'html.parser')\n",
    "    numEpisodes = len(season_soup.find_all('input', attrs = {'name':'tconst'}))\n",
    "    # print(season_URL)\n",
    "    \n",
    "    for e in range(0,numEpisodes,1):\n",
    "        show_tconst = season_soup.find_all('input', attrs = {'name':'tconst'})[e]['value']\n",
    "        no_season = numSeasons-s\n",
    "        no_episode = e + 1    \n",
    "        rating = float(season_soup.find_all('div', class_='ipl-rating-star small')[e].find('span', class_='ipl-rating-star__rating').text) \n",
    "        # num_votes = int(locale.atoi(season_soup.find_all('span', class_='ipl-rating-star__total-votes')[e].text.strip('()')))\n",
    "        # print(\"{}\\tSeason {}\\tEp. {}\\tRating {}\\tVotes: {}\".format(show_tconst, no_season, no_episode, rating, num_votes))\n",
    "        \n",
    "        show_info_df['parentTconst'][df_index] = user_tconst\n",
    "        show_info_df['tconst'][df_index] = show_tconst\n",
    "        show_info_df['seasonNumber'][df_index] = no_season\n",
    "        show_info_df['episodeNumber'][df_index] = no_episode\n",
    "        show_info_df['averageRating'][df_index] = rating\n",
    "        # show_info_df['numVotes'][df_index] = num_votes\n",
    "        df_index += 1\n",
    "\n",
    "show_info_df = show_info_df[(show_info_df.T != 0).any()]\n",
    "show_heatmap = show_info_df.pivot('episodeNumber', 'seasonNumber', 'averageRating')\n",
    "plt.figure(figsize=(10,15))\n",
    "show_plt = sns.heatmap(show_heatmap,\n",
    "                        square=True,\n",
    "                        linewidths=1,\n",
    "                        annot=True,\n",
    "                        cmap='RdYlGn',\n",
    "                        vmin=0,\n",
    "                        vmax=10)\n",
    "show_plt.xaxis.set_ticks_position('top')\n",
    "show_plt.xaxis.set_label_position('top')"
   ]
  },
  {
   "cell_type": "code",
   "execution_count": null,
   "metadata": {},
   "outputs": [],
   "source": []
  }
 ],
 "metadata": {
  "kernelspec": {
   "display_name": "Python 3",
   "language": "python",
   "name": "python3"
  },
  "language_info": {
   "codemirror_mode": {
    "name": "ipython",
    "version": 3
   },
   "file_extension": ".py",
   "mimetype": "text/x-python",
   "name": "python",
   "nbconvert_exporter": "python",
   "pygments_lexer": "ipython3",
   "version": "3.7.4"
  }
 },
 "nbformat": 4,
 "nbformat_minor": 2
}
